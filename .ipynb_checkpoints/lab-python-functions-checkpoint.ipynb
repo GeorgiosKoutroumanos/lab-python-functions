{
 "cells": [
  {
   "cell_type": "markdown",
   "id": "25d7736c-ba17-4aff-b6bb-66eba20fbf4e",
   "metadata": {},
   "source": [
    "# Lab | Functions"
   ]
  },
  {
   "cell_type": "markdown",
   "id": "0c581062-8967-4d93-b06e-62833222f930",
   "metadata": {
    "tags": []
   },
   "source": [
    "## Exercise: Managing Customer Orders with Functions\n",
    "\n",
    "In the previous exercise, you improved the code for managing customer orders by using loops and flow control. Now, let's take it a step further and refactor the code by introducing functions.\n",
    "\n",
    "Follow the steps below to complete the exercise:\n",
    "\n",
    "1. Define a function named `initialize_inventory` that takes `products` as a parameter. Inside the function, implement the code for initializing the inventory dictionary using a loop and user input.\n",
    "\n",
    "2. Define a function named `get_customer_orders` that takes no parameters. Inside the function, implement the code for prompting the user to enter the product names using a loop. The function should return the `customer_orders` set.\n",
    "\n",
    "3. Define a function named `update_inventory` that takes `customer_orders` and `inventory` as parameters. Inside the function, implement the code for updating the inventory dictionary based on the customer orders.\n",
    "\n",
    "4. Define a function named `calculate_order_statistics` that takes `customer_orders` and `products` as parameters. Inside the function, implement the code for calculating the order statistics (total products ordered, and percentage of unique products ordered). The function should return these values.\n",
    "\n",
    "5. Define a function named `print_order_statistics` that takes `order_statistics` as a parameter. Inside the function, implement the code for printing the order statistics.\n",
    "\n",
    "6. Define a function named `print_updated_inventory` that takes `inventory` as a parameter. Inside the function, implement the code for printing the updated inventory.\n",
    "\n",
    "7. Call the functions in the appropriate sequence to execute the program and manage customer orders.\n",
    "\n",
    "Hints for functions:\n",
    "\n",
    "- Consider the input parameters required for each function and their return values.\n",
    "- Utilize function parameters and return values to transfer data between functions.\n",
    "- Test your functions individually to ensure they work correctly.\n",
    "\n",
    "\n"
   ]
  },
  {
   "cell_type": "code",
   "execution_count": 18,
   "id": "d96987a4-494f-4f55-aeb4-3b9f25c1e000",
   "metadata": {},
   "outputs": [
    {
     "name": "stdin",
     "output_type": "stream",
     "text": [
      "How many products do you have in inventory?: 2\n",
      "How many products do you have in inventory?: 3\n",
      "How many products do you have in inventory?: 4\n",
      "How many products do you have in inventory?: 5\n",
      "How many products do you have in inventory?: 6\n"
     ]
    },
    {
     "name": "stdout",
     "output_type": "stream",
     "text": [
      "{'t-shirt': 2, 'mug': 3, 'hat': 4, 'book': 5, 'keychain': 6}\n"
     ]
    }
   ],
   "source": [
    "# Question 1\n",
    "\n",
    "products = [\"t-shirt\", \"mug\", \"hat\", \"book\", \"keychain\"]\n",
    "\n",
    "inventory = {}\n",
    "\n",
    "def initialize_inventory(products):\n",
    "    for product in products:\n",
    "        quantity = int(input(\"How many products do you have in inventory?:\"))\n",
    "        inventory[product] = quantity\n",
    "    print(inventory)\n",
    "\n",
    "initialize_inventory(products)"
   ]
  },
  {
   "cell_type": "code",
   "execution_count": 14,
   "id": "cbe17bcb-33b0-4bdf-98df-b0f0e51f2868",
   "metadata": {},
   "outputs": [
    {
     "name": "stdin",
     "output_type": "stream",
     "text": [
      "Enter your order: 1\n"
     ]
    },
    {
     "name": "stdout",
     "output_type": "stream",
     "text": [
      "Enter a valid product in inventory.\n"
     ]
    },
    {
     "name": "stdin",
     "output_type": "stream",
     "text": [
      "Enter your order: hat\n",
      "Do you want to add more products? (yes/no): yes\n",
      "Enter your order: books\n"
     ]
    },
    {
     "name": "stdout",
     "output_type": "stream",
     "text": [
      "Enter a valid product in inventory.\n"
     ]
    },
    {
     "name": "stdin",
     "output_type": "stream",
     "text": [
      "Enter your order: book\n",
      "Do you want to add more products? (yes/no): no\n"
     ]
    },
    {
     "name": "stdout",
     "output_type": "stream",
     "text": [
      "Order completed: {'book', 'hat'}\n"
     ]
    }
   ],
   "source": [
    "# Question 2\n",
    "customer_orders = set()\n",
    "\n",
    "def get_customer_orders ():\n",
    "\n",
    "    while True:\n",
    "        order = input(\"Enter your order:\").strip().lower()\n",
    "        if order in products:\n",
    "            customer_orders.add(order)\n",
    "        else:\n",
    "            print(\"Enter a valid product in inventory.\")\n",
    "            continue\n",
    "        ask_customer = str(input(\"Do you want to add more products? (yes/no):\").strip().lower())\n",
    "        if ask_customer != 'yes':\n",
    "            break\n",
    "\n",
    "    print(\"Order completed:\",customer_orders)\n",
    "\n",
    "get_customer_orders()"
   ]
  },
  {
   "cell_type": "code",
   "execution_count": 22,
   "id": "7bfdf079-f886-4e8f-ac5e-a2d4f5520b3e",
   "metadata": {},
   "outputs": [
    {
     "name": "stdout",
     "output_type": "stream",
     "text": [
      "Updated Inventory:  {'t-shirt': 2, 'mug': 3, 'hat': 3, 'book': 4, 'keychain': 6}\n"
     ]
    }
   ],
   "source": [
    "#Question 3\n",
    "\n",
    "def update_inventory(customer_orders,inventory):\n",
    "    updated_inventory = inventory.copy()\n",
    "    for key,value in inventory.items():\n",
    "        if key in customer_orders:\n",
    "            updated_inventory[key] = value - 1\n",
    "    print(\"Updated Inventory: \", updated_inventory)\n",
    "\n",
    "update_inventory(customer_orders,inventory)"
   ]
  },
  {
   "cell_type": "code",
   "execution_count": 56,
   "id": "761f6d5e-f2c4-4719-87c6-b6ef9f2178d8",
   "metadata": {},
   "outputs": [
    {
     "data": {
      "text/plain": [
       "(2, 0.4)"
      ]
     },
     "execution_count": 56,
     "metadata": {},
     "output_type": "execute_result"
    }
   ],
   "source": [
    "# Question 4\n",
    "\n",
    "def calculate_order_statistics(customer_orders,products):\n",
    "    total_products_ordered = len(customer_orders)\n",
    "    percentage = len(set(customer_orders))/len(set(products))\n",
    "    return total_products_ordered,percentage\n",
    "                                                                 \n",
    "calculate_order_statistics(customer_orders,products)"
   ]
  },
  {
   "cell_type": "code",
   "execution_count": 64,
   "id": "71029429-e935-4dcc-8bb2-85b35f576afe",
   "metadata": {},
   "outputs": [
    {
     "name": "stdout",
     "output_type": "stream",
     "text": [
      "Total Products order:  2 , Percentage:  0.4\n"
     ]
    }
   ],
   "source": [
    "# Question 5\n",
    "\n",
    "total_products_ordered, percentage = calculate_order_statistics(customer_orders, products) # calling the function to assign return values outside\n",
    "\n",
    "def print_order_statistics(total_products_ordered,percentage):    \n",
    "    print(\"Total Products order: \",total_products_ordered,\", Percentage: \",percentage)\n",
    "\n",
    "print_order_statistics(total_products_ordered,percentage)\n",
    "\n"
   ]
  },
  {
   "cell_type": "code",
   "execution_count": 66,
   "id": "f20d7c64-450d-41df-88f8-d7f1e3914310",
   "metadata": {},
   "outputs": [
    {
     "name": "stdout",
     "output_type": "stream",
     "text": [
      "Updated Inventory:  {'t-shirt': 2, 'mug': 3, 'hat': 3, 'book': 4, 'keychain': 6}\n"
     ]
    }
   ],
   "source": [
    "# Question 6\n",
    "\n",
    "def print_updated_inventory(inventory):\n",
    "    update_inventory(customer_orders,inventory) #call function inside the function\n",
    "\n",
    "print_updated_inventory(inventory)"
   ]
  },
  {
   "cell_type": "code",
   "execution_count": 68,
   "id": "d71bf325-4fa3-40d8-837e-73685c617342",
   "metadata": {},
   "outputs": [
    {
     "name": "stdin",
     "output_type": "stream",
     "text": [
      "How many products do you have in inventory?: 2\n",
      "How many products do you have in inventory?: 3\n",
      "How many products do you have in inventory?: 4\n",
      "How many products do you have in inventory?: 5\n",
      "How many products do you have in inventory?: 6\n"
     ]
    },
    {
     "name": "stdout",
     "output_type": "stream",
     "text": [
      "{'t-shirt': 2, 'mug': 3, 'hat': 4, 'book': 5, 'keychain': 6}\n"
     ]
    },
    {
     "name": "stdin",
     "output_type": "stream",
     "text": [
      "Enter your order: hat\n",
      "Do you want to add more products? (yes/no): yes\n",
      "Enter your order: books\n"
     ]
    },
    {
     "name": "stdout",
     "output_type": "stream",
     "text": [
      "Enter a valid product in inventory.\n"
     ]
    },
    {
     "name": "stdin",
     "output_type": "stream",
     "text": [
      "Enter your order: book\n",
      "Do you want to add more products? (yes/no): no\n"
     ]
    },
    {
     "name": "stdout",
     "output_type": "stream",
     "text": [
      "Order completed: {'book', 'hat'}\n",
      "Updated Inventory:  {'t-shirt': 2, 'mug': 3, 'hat': 3, 'book': 4, 'keychain': 6}\n",
      "Total Products order:  2 , Percentage:  0.4\n",
      "Updated Inventory:  {'t-shirt': 2, 'mug': 3, 'hat': 3, 'book': 4, 'keychain': 6}\n"
     ]
    }
   ],
   "source": [
    "# Question 9\n",
    "\n",
    "initialize_inventory(products)\n",
    "get_customer_orders()\n",
    "update_inventory(customer_orders,inventory)\n",
    "calculate_order_statistics(customer_orders,products)\n",
    "print_order_statistics(total_products_ordered,percentage)\n",
    "print_updated_inventory(inventory)"
   ]
  },
  {
   "cell_type": "code",
   "execution_count": null,
   "id": "c766df69-c575-4d73-af6d-43aba30c1488",
   "metadata": {},
   "outputs": [],
   "source": []
  }
 ],
 "metadata": {
  "kernelspec": {
   "display_name": "Python [conda env:base] *",
   "language": "python",
   "name": "conda-base-py"
  },
  "language_info": {
   "codemirror_mode": {
    "name": "ipython",
    "version": 3
   },
   "file_extension": ".py",
   "mimetype": "text/x-python",
   "name": "python",
   "nbconvert_exporter": "python",
   "pygments_lexer": "ipython3",
   "version": "3.12.7"
  }
 },
 "nbformat": 4,
 "nbformat_minor": 5
}
